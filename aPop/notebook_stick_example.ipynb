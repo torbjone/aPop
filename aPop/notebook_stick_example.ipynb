{
 "cells": [
  {
   "cell_type": "markdown",
   "metadata": {},
   "source": [
    "First we load example simulation functions.\n",
    "\n",
    "Simulation parameters can be changed by modifying 'param_dict'."
   ]
  },
  {
   "cell_type": "code",
   "execution_count": 8,
   "metadata": {
    "collapsed": true
   },
   "outputs": [],
   "source": [
    "%matplotlib inline\n",
    "import os\n",
    "from stick_population_example import init_example_pop, simulate_populations, plot_LFP_PSDs, param_dict\n",
    "param_dict[\"num_cells\"] = 10"
   ]
  },
  {
   "cell_type": "markdown",
   "metadata": {},
   "source": [
    "First we initialize the stick population"
   ]
  },
  {
   "cell_type": "code",
   "execution_count": 9,
   "metadata": {},
   "outputs": [
    {
     "name": "stdout",
     "output_type": "stream",
     "text": [
      "Initializing cell positions and rotations ...\n",
      "Initializing input spike trains\n"
     ]
    }
   ],
   "source": [
    "init_example_pop()"
   ]
  },
  {
   "cell_type": "markdown",
   "metadata": {},
   "source": [
    "We now run all single cell simulations. This may take a while depending on the parameters in \"param_dict\". Have a coffee."
   ]
  },
  {
   "cell_type": "code",
   "execution_count": 13,
   "metadata": {
    "scrolled": true
   },
   "outputs": [
    {
     "name": "stdout",
     "output_type": "stream",
     "text": [
      "Simulating example stick population\n",
      "Finished population top; increase; None; 0.0\n",
      "summing LFP and removing single LFP files\n",
      "Remove files ../stick_pop_example/simulations/center_sig_stick_pop_example_infinite_neurite_top_generic_increase_None_0.00_*.npy\n",
      "Finished population top; increase; None; 1.0\n",
      "summing LFP and removing single LFP files\n",
      "Remove files ../stick_pop_example/simulations/center_sig_stick_pop_example_infinite_neurite_top_generic_increase_None_1.00_*.npy\n",
      "Finished population top; increase; 2.0; 0.0\n",
      "summing LFP and removing single LFP files\n",
      "Remove files ../stick_pop_example/simulations/center_sig_stick_pop_example_infinite_neurite_top_generic_increase_2.0_0.00_*.npy\n",
      "Finished population top; increase; 2.0; 1.0\n",
      "summing LFP and removing single LFP files\n",
      "Remove files ../stick_pop_example/simulations/center_sig_stick_pop_example_infinite_neurite_top_generic_increase_2.0_1.00_*.npy\n",
      "Simulating task 50 of 80\n",
      "Finished population homogeneous; increase; None; 0.0\n",
      "summing LFP and removing single LFP files\n",
      "Remove files ../stick_pop_example/simulations/center_sig_stick_pop_example_infinite_neurite_homogeneous_generic_increase_None_0.00_*.npy\n",
      "Finished population homogeneous; increase; None; 1.0\n",
      "summing LFP and removing single LFP files\n",
      "Remove files ../stick_pop_example/simulations/center_sig_stick_pop_example_infinite_neurite_homogeneous_generic_increase_None_1.00_*.npy\n",
      "Finished population homogeneous; increase; 2.0; 0.0\n",
      "summing LFP and removing single LFP files\n",
      "Remove files ../stick_pop_example/simulations/center_sig_stick_pop_example_infinite_neurite_homogeneous_generic_increase_2.0_0.00_*.npy\n",
      "Finished population homogeneous; increase; 2.0; 1.0\n",
      "summing LFP and removing single LFP files\n",
      "Remove files ../stick_pop_example/simulations/center_sig_stick_pop_example_infinite_neurite_homogeneous_generic_increase_2.0_1.00_*.npy\n"
     ]
    }
   ],
   "source": [
    "sim_folder = os.path.join(param_dict[\"root_folder\"], param_dict[\"save_folder\"], \"simulations\")\n",
    "os.system(\"rm {}/*.npy\".format(sim_folder))\n",
    "simulate_populations()"
   ]
  },
  {
   "cell_type": "markdown",
   "metadata": {
    "collapsed": true
   },
   "source": [
    "Then we plot results the results."
   ]
  },
  {
   "cell_type": "code",
   "execution_count": 14,
   "metadata": {},
   "outputs": [
    {
     "ename": "FileNotFoundError",
     "evalue": "[Errno 2] No such file or directory: '../stick_pop_example/simulations/summed_center_signal_stick_pop_example_infinite_neurite_top_generic_increase_None_0.00_99um.npy'",
     "output_type": "error",
     "traceback": [
      "\u001b[0;31m---------------------------------------------------------------------------\u001b[0m",
      "\u001b[0;31mFileNotFoundError\u001b[0m                         Traceback (most recent call last)",
      "\u001b[0;32m<ipython-input-14-846b8d8f8724>\u001b[0m in \u001b[0;36m<module>\u001b[0;34m()\u001b[0m\n\u001b[0;32m----> 1\u001b[0;31m \u001b[0mplot_LFP_PSDs\u001b[0m\u001b[0;34m(\u001b[0m\u001b[0;34m)\u001b[0m\u001b[0;34m\u001b[0m\u001b[0m\n\u001b[0m",
      "\u001b[0;32m~/work/aPop/aPop/stick_population_example.py\u001b[0m in \u001b[0;36mplot_LFP_PSDs\u001b[0;34m()\u001b[0m\n\u001b[1;32m    140\u001b[0m                     \u001b[0mns\u001b[0m \u001b[0;34m=\u001b[0m \u001b[0mNeuralSimulation\u001b[0m\u001b[0;34m(\u001b[0m\u001b[0;34m**\u001b[0m\u001b[0mparam_dict\u001b[0m\u001b[0;34m)\u001b[0m\u001b[0;34m\u001b[0m\u001b[0m\n\u001b[1;32m    141\u001b[0m                     lfp = np.load(join(ns.sim_folder, 'summed_center_signal_%s_%dum.npy' %\n\u001b[0;32m--> 142\u001b[0;31m                          (ns.population_sim_name, param_dict[\"population_radius\"] - 1)))[soma_elec, :]\n\u001b[0m\u001b[1;32m    143\u001b[0m                     \u001b[0mfreq\u001b[0m\u001b[0;34m,\u001b[0m \u001b[0mpsd\u001b[0m \u001b[0;34m=\u001b[0m \u001b[0mreturn_freq_and_psd_welch\u001b[0m\u001b[0;34m(\u001b[0m\u001b[0mlfp\u001b[0m\u001b[0;34m,\u001b[0m \u001b[0mwelch_dict\u001b[0m\u001b[0;34m)\u001b[0m\u001b[0;34m\u001b[0m\u001b[0m\n\u001b[1;32m    144\u001b[0m \u001b[0;34m\u001b[0m\u001b[0m\n",
      "\u001b[0;32m~/anaconda3/lib/python3.6/site-packages/numpy/lib/npyio.py\u001b[0m in \u001b[0;36mload\u001b[0;34m(file, mmap_mode, allow_pickle, fix_imports, encoding)\u001b[0m\n\u001b[1;32m    368\u001b[0m     \u001b[0mown_fid\u001b[0m \u001b[0;34m=\u001b[0m \u001b[0;32mFalse\u001b[0m\u001b[0;34m\u001b[0m\u001b[0m\n\u001b[1;32m    369\u001b[0m     \u001b[0;32mif\u001b[0m \u001b[0misinstance\u001b[0m\u001b[0;34m(\u001b[0m\u001b[0mfile\u001b[0m\u001b[0;34m,\u001b[0m \u001b[0mbasestring\u001b[0m\u001b[0;34m)\u001b[0m\u001b[0;34m:\u001b[0m\u001b[0;34m\u001b[0m\u001b[0m\n\u001b[0;32m--> 370\u001b[0;31m         \u001b[0mfid\u001b[0m \u001b[0;34m=\u001b[0m \u001b[0mopen\u001b[0m\u001b[0;34m(\u001b[0m\u001b[0mfile\u001b[0m\u001b[0;34m,\u001b[0m \u001b[0;34m\"rb\"\u001b[0m\u001b[0;34m)\u001b[0m\u001b[0;34m\u001b[0m\u001b[0m\n\u001b[0m\u001b[1;32m    371\u001b[0m         \u001b[0mown_fid\u001b[0m \u001b[0;34m=\u001b[0m \u001b[0;32mTrue\u001b[0m\u001b[0;34m\u001b[0m\u001b[0m\n\u001b[1;32m    372\u001b[0m     \u001b[0;32melif\u001b[0m \u001b[0mis_pathlib_path\u001b[0m\u001b[0;34m(\u001b[0m\u001b[0mfile\u001b[0m\u001b[0;34m)\u001b[0m\u001b[0;34m:\u001b[0m\u001b[0;34m\u001b[0m\u001b[0m\n",
      "\u001b[0;31mFileNotFoundError\u001b[0m: [Errno 2] No such file or directory: '../stick_pop_example/simulations/summed_center_signal_stick_pop_example_infinite_neurite_top_generic_increase_None_0.00_99um.npy'"
     ]
    },
    {
     "data": {
      "image/png": "[encoded data removed]",
      "text/plain": [
       "<matplotlib.figure.Figure at 0x7f35265b36a0>"
      ]
     },
     "metadata": {},
     "output_type": "display_data"
    }
   ],
   "source": [
    "plot_LFP_PSDs()"
   ]
  },
  {
   "cell_type": "code",
   "execution_count": null,
   "metadata": {
    "collapsed": true
   },
   "outputs": [],
   "source": []
  }
 ],
 "metadata": {
  "kernelspec": {
   "display_name": "Python 3",
   "language": "python",
   "name": "python3"
  },
  "language_info": {
   "codemirror_mode": {
    "name": "ipython",
    "version": 3
   },
   "file_extension": ".py",
   "mimetype": "text/x-python",
   "name": "python",
   "nbconvert_exporter": "python",
   "pygments_lexer": "ipython3",
   "version": "3.6.3"
  }
 },
 "nbformat": 4,
 "nbformat_minor": 2
}
