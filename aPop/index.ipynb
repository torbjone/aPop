{
 "cells": [
  {
   "cell_type": "markdown",
   "metadata": {},
   "source": [
    "# The effect of subthreshold active conductances on the Local Field Potential (LFP) from a simplified population\n",
    "\n",
    "First we load simulation functions to simulate an example population of simplifies stick models. \n",
    "\n",
    "Simulation parameters can be changed by modifying 'param_dict'.\n",
    "\n",
    "Note that to re-run simulations, we recommend restarting the kernel to clear memory. "
   ]
  },
  {
   "cell_type": "code",
   "execution_count": null,
   "metadata": {
    "collapsed": true
   },
   "outputs": [],
   "source": [
    "%matplotlib inline\n",
    "import os\n",
    "from stick_population_example import (init_example_pop, \n",
    "                                      simulate_populations, \n",
    "                                      plot_LFP_PSDs, param_dict)\n",
    "                                      \n",
    "# Number of cells in population and spatial size of population\n",
    "param_dict['num_cells'] = 10  \n",
    "param_dict['population_radius'] = 100\n",
    "\n",
    "# Asymmetry factor for restorative (Ih-like) conductance. \n",
    "# 10 means that the peak conductance strength will be 10-fold\n",
    "# higher in the top half of the stick\n",
    "param_dict['g_w_bar_scaling'] = 10. \n",
    "\n",
    "# Synaptic input parameters. Number of synapses and input firing rate.\n",
    "param_dict['num_synapses'] = 100\n",
    "param_dict['input_firing_rate'] = 5  # Hz\n"
   ]
  },
  {
   "cell_type": "markdown",
   "metadata": {},
   "source": [
    "### Initializing the cell population\n",
    "First we initialize the stick population with the chosen parameters."
   ]
  },
  {
   "cell_type": "code",
   "execution_count": null,
   "metadata": {},
   "outputs": [],
   "source": [
    "init_example_pop(param_dict)"
   ]
  },
  {
   "cell_type": "markdown",
   "metadata": {},
   "source": [
    "### Running the single cell simulations and summing the signals\n",
    "We now run all single cell simulations. This may take a while depending on the parameters in \"param_dict\". \n",
    "\n",
    "Have a coffee..."
   ]
  },
  {
   "cell_type": "code",
   "execution_count": null,
   "metadata": {},
   "outputs": [],
   "source": [
    "sim_folder = os.path.join(param_dict[\"root_folder\"], \n",
    "                          param_dict[\"save_folder\"], \n",
    "                          \"simulations\")\n",
    "os.system(\"rm {}/*.npy\".format(sim_folder))\n",
    "simulate_populations(param_dict)"
   ]
  },
  {
   "cell_type": "markdown",
   "metadata": {},
   "source": [
    "### Plotting the results\n",
    "Then we plot results the results. The power spectral density (PSD) of the LFP and the PSD modulation, i.e., the LFP-PSD of a population with an Ih-like conductance, normalized to the LFP-PSD of a passive population receving identical synaptic input, is plotted as a function of frequency\n",
    "for input to the top half of the cell (top row, panel A-D) for zero correlation (c=0, panel A, B) and full correlation (c=1, panel C, D). The bottom row shows the same for a population receving synaptic input that is homogeneously distributed all over the cells."
   ]
  },
  {
   "cell_type": "code",
   "execution_count": null,
   "metadata": {},
   "outputs": [],
   "source": [
    "plot_LFP_PSDs(param_dict)"
   ]
  },
  {
   "cell_type": "code",
   "execution_count": null,
   "metadata": {
    "collapsed": true
   },
   "outputs": [],
   "source": []
  }
 ],
 "metadata": {
  "kernelspec": {
   "display_name": "Python 3",
   "language": "python",
   "name": "python3"
  },
  "language_info": {
   "codemirror_mode": {
    "name": "ipython",
    "version": 3
   },
   "file_extension": ".py",
   "mimetype": "text/x-python",
   "name": "python",
   "nbconvert_exporter": "python",
   "pygments_lexer": "ipython3",
   "version": "3.6.3"
  }
 },
 "nbformat": 4,
 "nbformat_minor": 2
}
