{
 "cells": [
  {
   "cell_type": "markdown",
   "metadata": {},
   "source": [
    "# The effect of subthreshold active conductances on the Local Field Potential (LFP) from a simplified population\n",
    "\n",
    "First we load simulation functions to simulate an example population of simplifies stick models. \n",
    "\n",
    "Simulation parameters can be changed by modifying 'param_dict'.\n",
    "\n",
    "Note that to re-run simulations, we recommend restarting the kernel to clear memory. "
   ]
  },
  {
   "cell_type": "code",
   "execution_count": 1,
   "metadata": {},
   "outputs": [],
   "source": [
    "%matplotlib inline\n",
    "import os\n",
    "from aPop.stick_population_example import (init_example_pop, \n",
    "                                      simulate_populations, \n",
    "                                      plot_LFP_PSDs, param_dict)\n",
    "                                      \n",
    "# Number of cells in population and spatial size of population\n",
    "param_dict['num_cells'] = 10  \n",
    "param_dict['population_radius'] = 100\n",
    "\n",
    "# Asymmetry factor for restorative (Ih-like) conductance. \n",
    "# 10 means that the peak conductance strength will be 10-fold\n",
    "# higher in the top half of the stick\n",
    "param_dict['g_w_bar_scaling'] = 10. \n",
    "\n",
    "# Synaptic input parameters. Number of synapses and input firing rate.\n",
    "param_dict['num_synapses'] = 100\n",
    "param_dict['input_firing_rate'] = 5  # Hz"
   ]
  },
  {
   "cell_type": "markdown",
   "metadata": {},
   "source": [
    "### Initializing the cell population\n",
    "First we initialize the stick population with the chosen parameters."
   ]
  },
  {
   "cell_type": "code",
   "execution_count": 2,
   "metadata": {},
   "outputs": [
    {
     "name": "stdout",
     "output_type": "stream",
     "text": [
      "Initializing cell positions and rotations ...\n",
      "Initializing input spike trains\n"
     ]
    }
   ],
   "source": [
    "init_example_pop(param_dict)"
   ]
  },
  {
   "cell_type": "markdown",
   "metadata": {},
   "source": [
    "### Running the single cell simulations and summing the signals\n",
    "We now run all single cell simulations. This may take a while depending on the parameters in \"param_dict\". \n",
    "\n",
    "Have a coffee..."
   ]
  },
  {
   "cell_type": "code",
   "execution_count": 3,
   "metadata": {},
   "outputs": [
    {
     "name": "stdout",
     "output_type": "stream",
     "text": [
      "Simulating example stick population. \n",
      "NEURON mechanisms not found in ../neuron_models.\n"
     ]
    },
    {
     "ename": "ModuleNotFoundError",
     "evalue": "No module named 'infinite_neurite_active_declarations'",
     "output_type": "error",
     "traceback": [
      "\u001b[0;31m---------------------------------------------------------------------------\u001b[0m",
      "\u001b[0;31mModuleNotFoundError\u001b[0m                       Traceback (most recent call last)",
      "\u001b[0;32m<ipython-input-3-bfe1d379eb78>\u001b[0m in \u001b[0;36m<module>\u001b[0;34m()\u001b[0m\n\u001b[1;32m      3\u001b[0m                           \"simulations\")\n\u001b[1;32m      4\u001b[0m \u001b[0mos\u001b[0m\u001b[0;34m.\u001b[0m\u001b[0msystem\u001b[0m\u001b[0;34m(\u001b[0m\u001b[0;34m\"rm {}/*.npy\"\u001b[0m\u001b[0;34m.\u001b[0m\u001b[0mformat\u001b[0m\u001b[0;34m(\u001b[0m\u001b[0msim_folder\u001b[0m\u001b[0;34m)\u001b[0m\u001b[0;34m)\u001b[0m\u001b[0;34m\u001b[0m\u001b[0m\n\u001b[0;32m----> 5\u001b[0;31m \u001b[0msimulate_populations\u001b[0m\u001b[0;34m(\u001b[0m\u001b[0mparam_dict\u001b[0m\u001b[0;34m)\u001b[0m\u001b[0;34m\u001b[0m\u001b[0m\n\u001b[0m",
      "\u001b[0;32m~/work/aPop/aPop/stick_population_example.py\u001b[0m in \u001b[0;36msimulate_populations\u001b[0;34m(param_dict)\u001b[0m\n\u001b[1;32m    117\u001b[0m                         \u001b[0mparam_dict\u001b[0m\u001b[0;34m.\u001b[0m\u001b[0mupdate\u001b[0m\u001b[0;34m(\u001b[0m\u001b[0;34m{\u001b[0m\u001b[0;34m'cell_number'\u001b[0m\u001b[0;34m:\u001b[0m \u001b[0mcell_idx\u001b[0m\u001b[0;34m}\u001b[0m\u001b[0;34m)\u001b[0m\u001b[0;34m\u001b[0m\u001b[0m\n\u001b[1;32m    118\u001b[0m                         \u001b[0mns\u001b[0m \u001b[0;34m=\u001b[0m \u001b[0mNeuralSimulation\u001b[0m\u001b[0;34m(\u001b[0m\u001b[0;34m**\u001b[0m\u001b[0mparam_dict\u001b[0m\u001b[0;34m)\u001b[0m\u001b[0;34m\u001b[0m\u001b[0m\n\u001b[0;32m--> 119\u001b[0;31m                         \u001b[0mns\u001b[0m\u001b[0;34m.\u001b[0m\u001b[0mrun_single_simulation\u001b[0m\u001b[0;34m(\u001b[0m\u001b[0;34m)\u001b[0m\u001b[0;34m\u001b[0m\u001b[0m\n\u001b[0m\u001b[1;32m    120\u001b[0m                         \u001b[0;31m# sys.exit()\u001b[0m\u001b[0;34m\u001b[0m\u001b[0;34m\u001b[0m\u001b[0m\n\u001b[1;32m    121\u001b[0m                         \u001b[0;31m# else:\u001b[0m\u001b[0;34m\u001b[0m\u001b[0;34m\u001b[0m\u001b[0m\n",
      "\u001b[0;32m~/work/aPop/aPop/NeuralSimulation.py\u001b[0m in \u001b[0;36mrun_single_simulation\u001b[0;34m(self)\u001b[0m\n\u001b[1;32m    461\u001b[0m                          'x_y_z_rot_%s.npy' % self.param_dict['name']))[self.cell_number]\n\u001b[1;32m    462\u001b[0m \u001b[0;34m\u001b[0m\u001b[0m\n\u001b[0;32m--> 463\u001b[0;31m         \u001b[0mcell\u001b[0m \u001b[0;34m=\u001b[0m \u001b[0mself\u001b[0m\u001b[0;34m.\u001b[0m\u001b[0mreturn_cell\u001b[0m\u001b[0;34m(\u001b[0m\u001b[0mx_y_z_rot\u001b[0m\u001b[0;34m)\u001b[0m\u001b[0;34m\u001b[0m\u001b[0m\n\u001b[0m\u001b[1;32m    464\u001b[0m         \u001b[0mcell\u001b[0m\u001b[0;34m,\u001b[0m \u001b[0msyn\u001b[0m \u001b[0;34m=\u001b[0m \u001b[0mself\u001b[0m\u001b[0;34m.\u001b[0m\u001b[0m_make_synaptic_stimuli\u001b[0m\u001b[0;34m(\u001b[0m\u001b[0mcell\u001b[0m\u001b[0;34m)\u001b[0m\u001b[0;34m\u001b[0m\u001b[0m\n\u001b[1;32m    465\u001b[0m \u001b[0;34m\u001b[0m\u001b[0m\n",
      "\u001b[0;32m~/work/aPop/aPop/NeuralSimulation.py\u001b[0m in \u001b[0;36mreturn_cell\u001b[0;34m(self, cell_x_y_z_rotation)\u001b[0m\n\u001b[1;32m    325\u001b[0m         \u001b[0;32melif\u001b[0m \u001b[0mself\u001b[0m\u001b[0;34m.\u001b[0m\u001b[0mcell_name\u001b[0m \u001b[0;34m==\u001b[0m \u001b[0;34m'infinite_neurite'\u001b[0m\u001b[0;34m:\u001b[0m\u001b[0;34m\u001b[0m\u001b[0m\n\u001b[1;32m    326\u001b[0m             \u001b[0msys\u001b[0m\u001b[0;34m.\u001b[0m\u001b[0mpath\u001b[0m\u001b[0;34m.\u001b[0m\u001b[0mappend\u001b[0m\u001b[0;34m(\u001b[0m\u001b[0mjoin\u001b[0m\u001b[0;34m(\u001b[0m\u001b[0mself\u001b[0m\u001b[0;34m.\u001b[0m\u001b[0mneuron_models\u001b[0m\u001b[0;34m,\u001b[0m \u001b[0;34m'infinite_neurite'\u001b[0m\u001b[0;34m)\u001b[0m\u001b[0;34m)\u001b[0m\u001b[0;34m\u001b[0m\u001b[0m\n\u001b[0;32m--> 327\u001b[0;31m             \u001b[0;32mfrom\u001b[0m \u001b[0minfinite_neurite_active_declarations\u001b[0m \u001b[0;32mimport\u001b[0m \u001b[0mactive_declarations\u001b[0m\u001b[0;34m\u001b[0m\u001b[0m\n\u001b[0m\u001b[1;32m    328\u001b[0m \u001b[0;34m\u001b[0m\u001b[0m\n\u001b[1;32m    329\u001b[0m             args = [{'mu_factor': self.param_dict['mu'],\n",
      "\u001b[0;31mModuleNotFoundError\u001b[0m: No module named 'infinite_neurite_active_declarations'"
     ]
    }
   ],
   "source": [
    "sim_folder = os.path.join(param_dict[\"root_folder\"], \n",
    "                          param_dict[\"save_folder\"], \n",
    "                          \"simulations\")\n",
    "os.system(\"rm {}/*.npy\".format(sim_folder))\n",
    "simulate_populations(param_dict)"
   ]
  },
  {
   "cell_type": "markdown",
   "metadata": {},
   "source": [
    "### Plotting the results\n",
    "Then we plot results the results. The power spectral density (PSD) of the LFP and the PSD modulation, i.e., the LFP-PSD of a population with an Ih-like conductance, normalized to the LFP-PSD of a passive population receving identical synaptic input, is plotted as a function of frequency\n",
    "for input to the top half of the cell (top row, panel A-D) for zero correlation (c=0, panel A, B) and full correlation (c=1, panel C, D). The bottom row shows the same for a population receving synaptic input that is homogeneously distributed all over the cells."
   ]
  },
  {
   "cell_type": "code",
   "execution_count": null,
   "metadata": {
    "collapsed": true
   },
   "outputs": [],
   "source": [
    "plot_LFP_PSDs(param_dict)"
   ]
  },
  {
   "cell_type": "code",
   "execution_count": null,
   "metadata": {
    "collapsed": true
   },
   "outputs": [],
   "source": []
  }
 ],
 "metadata": {
  "kernelspec": {
   "display_name": "Python 3",
   "language": "python",
   "name": "python3"
  },
  "language_info": {
   "codemirror_mode": {
    "name": "ipython",
    "version": 3
   },
   "file_extension": ".py",
   "mimetype": "text/x-python",
   "name": "python",
   "nbconvert_exporter": "python",
   "pygments_lexer": "ipython3",
   "version": "3.6.3"
  }
 },
 "nbformat": 4,
 "nbformat_minor": 2
}
