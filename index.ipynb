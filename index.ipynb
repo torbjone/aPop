{
 "cells": [
  {
   "cell_type": "markdown",
   "metadata": {},
   "source": [
    "# The effect of subthreshold active conductances on the Local Field Potential (LFP) from a simplified population\n",
    "\n",
    "First we load simulation functions to simulate an example population of simplifies stick models. \n",
    "\n",
    "Simulation parameters can be changed by modifying 'param_dict'.\n",
    "\n",
    "Note that to re-run simulations, we recommend restarting the kernel to clear memory. "
   ]
  },
  {
   "cell_type": "code",
   "execution_count": 2,
   "metadata": {},
   "outputs": [],
   "source": [
    "%matplotlib inline\n",
    "import os\n",
    "from stick_population_example import (init_example_pop, \n",
    "                                      simulate_populations, \n",
    "                                      plot_LFP_PSDs, param_dict)\n",
    "                                      \n",
    "# Number of cells in population and spatial size of population\n",
    "param_dict['num_cells'] = 10  \n",
    "param_dict['population_radius'] = 20\n",
    "\n",
    "# Asymmetry factor for restorative (Ih-like) conductance. \n",
    "# 10 means that the peak conductance strength will be 10-fold\n",
    "# higher in the top half of the stick\n",
    "param_dict['g_w_bar_scaling'] = 10. \n",
    "\n",
    "# Synaptic input parameters. Number of synapses and input firing rate.\n",
    "param_dict['num_synapses'] = 100\n",
    "param_dict['input_firing_rate'] = 5  # Hz"
   ]
  },
  {
   "cell_type": "markdown",
   "metadata": {},
   "source": [
    "### Initializing the cell population\n",
    "First we initialize the stick population with the chosen parameters."
   ]
  },
  {
   "cell_type": "code",
   "execution_count": 3,
   "metadata": {},
   "outputs": [
    {
     "name": "stdout",
     "output_type": "stream",
     "text": [
      "Initializing cell positions and rotations ...\n",
      "Initializing input spike trains\n"
     ]
    }
   ],
   "source": [
    "init_example_pop(param_dict)"
   ]
  },
  {
   "cell_type": "markdown",
   "metadata": {},
   "source": [
    "### Running the single cell simulations and summing the signals\n",
    "We now run all single cell simulations. This may take a while depending on the parameters in \"param_dict\". \n",
    "\n",
    "Have a coffee..."
   ]
  },
  {
   "cell_type": "code",
   "execution_count": 4,
   "metadata": {},
   "outputs": [
    {
     "name": "stdout",
     "output_type": "stream",
     "text": [
      "Simulating example stick population. \n",
      "Finished population 1 / 8.\n",
      "summing LFP and removing single-cell LFP files. \n",
      "Finished population 2 / 8.\n",
      "summing LFP and removing single-cell LFP files. \n",
      "Finished population 3 / 8.\n",
      "summing LFP and removing single-cell LFP files. \n",
      "Finished population 4 / 8.\n",
      "summing LFP and removing single-cell LFP files. \n",
      "Simulating task 50 of 80\n",
      "Finished population 5 / 8.\n",
      "summing LFP and removing single-cell LFP files. \n",
      "Finished population 6 / 8.\n",
      "summing LFP and removing single-cell LFP files. \n",
      "Finished population 7 / 8.\n",
      "summing LFP and removing single-cell LFP files. \n",
      "Finished population 8 / 8.\n",
      "summing LFP and removing single-cell LFP files. \n",
      "Done with all populations.\n"
     ]
    }
   ],
   "source": [
    "sim_folder = os.path.join(param_dict[\"root_folder\"], \n",
    "                          param_dict[\"save_folder\"], \n",
    "                          \"simulations\")\n",
    "os.system(\"rm {}/*.npy\".format(sim_folder))\n",
    "simulate_populations(param_dict)"
   ]
  },
  {
   "cell_type": "markdown",
   "metadata": {},
   "source": [
    "### Plotting the results\n",
    "Then we plot results the results. The power spectral density (PSD) of the LFP and the PSD modulation, i.e., the LFP-PSD of a population with an Ih-like conductance, normalized to the LFP-PSD of a passive population receving identical synaptic input, is plotted as a function of frequency\n",
    "for input to the top half of the cell (top row, panel A-D) for zero correlation (c=0, panel A, B) and full correlation (c=1, panel C, D). The bottom row shows the same for a population receving synaptic input that is homogeneously distributed all over the cells."
   ]
  },
  {
   "cell_type": "code",
   "execution_count": null,
   "metadata": {
    "collapsed": true
   },
   "outputs": [],
   "source": [
    "plot_LFP_PSDs(param_dict)"
   ]
  },
  {
   "cell_type": "code",
   "execution_count": null,
   "metadata": {
    "collapsed": true
   },
   "outputs": [],
   "source": []
  }
 ],
 "metadata": {
  "kernelspec": {
   "display_name": "Python 3",
   "language": "python",
   "name": "python3"
  },
  "language_info": {
   "codemirror_mode": {
    "name": "ipython",
    "version": 3
   },
   "file_extension": ".py",
   "mimetype": "text/x-python",
   "name": "python",
   "nbconvert_exporter": "python",
   "pygments_lexer": "ipython3",
   "version": "3.6.3"
  }
 },
 "nbformat": 4,
 "nbformat_minor": 2
}
